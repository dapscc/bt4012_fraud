{
 "cells": [
  {
   "cell_type": "code",
   "execution_count": null,
   "metadata": {},
   "outputs": [],
   "source": [
    "import warnings\n",
    "\n",
    "from get_processed_data import get_processed_data\n",
    "from FSLMethods import form_datasets\n",
    "from FSLTrainer import FSLTrainer\n",
    "\n",
    "warnings.filterwarnings('ignore')"
   ]
  },
  {
   "cell_type": "markdown",
   "metadata": {},
   "source": [
    "### Preparing data"
   ]
  },
  {
   "cell_type": "markdown",
   "metadata": {},
   "source": [
    "Train-Test-Validation split and sampling"
   ]
  },
  {
   "cell_type": "code",
   "execution_count": null,
   "metadata": {},
   "outputs": [],
   "source": [
    "df, X_train, y_train, X_val, y_val, X_test, y_test = get_processed_data()\n",
    "\n",
    "## Datasets need to be a FewShotDataset / torch Dataset with .get_labels\n",
    "train_set, validation_set, test_set = form_datasets(X_train, y_train, X_val, y_val, X_test, y_test, feature_selection = True, sampling_method = 'undersampling')\n"
   ]
  },
  {
   "cell_type": "markdown",
   "metadata": {},
   "source": [
    "### Model training (meta-learning / episodic training)"
   ]
  },
  {
   "cell_type": "markdown",
   "metadata": {},
   "source": [
    "Episodic training simulates the few-shot learning scenario to train a prototypical network. Training data is organized into episodes that resemble few-shot tasks."
   ]
  },
  {
   "cell_type": "markdown",
   "metadata": {},
   "source": [
    "Train and tune model"
   ]
  },
  {
   "cell_type": "code",
   "execution_count": null,
   "metadata": {},
   "outputs": [],
   "source": [
    "config = {\n",
    "    'n_shot': [2, 4, 8, 16, 32, 64], ## Try even numbers in [2, 100]\n",
    "    'embedding_size': [2 ** x for x in range(2, 6)] ## Try {4, 8, 16, 32}\n",
    "}\n",
    "\n",
    "trainer = FSLTrainer(train_set, validation_set, test_set, config)"
   ]
  },
  {
   "cell_type": "code",
   "execution_count": null,
   "metadata": {},
   "outputs": [],
   "source": [
    "## Key: Value = (k, embedding_size): (metric, model_params)\n",
    "results, best_config = trainer.tune(metric = 'recall')"
   ]
  },
  {
   "cell_type": "markdown",
   "metadata": {},
   "source": [
    "### Model evaluation"
   ]
  },
  {
   "cell_type": "markdown",
   "metadata": {},
   "source": [
    "Get best model"
   ]
  },
  {
   "cell_type": "code",
   "execution_count": null,
   "metadata": {},
   "outputs": [],
   "source": [
    "## TODO: Get model that meets supervised learning performance\n",
    "threshold = 0.7\n",
    "min_k, relevant_embedding_size, relevant_model_state = 0, 0, None\n",
    "\n",
    "temp_list = [(k, embedding_size, metric, model_params) for (k, embedding_size), (metric, model_params) in results.items()]\n",
    "temp_list = sorted(temp_list, key = lambda x: x[2])\n",
    "for tup in temp_list:\n",
    "    if tup[2] >= threshold:\n",
    "        min_k = tup[0]\n",
    "        relevant_embedding_size = tup[1]\n",
    "        relevant_model_state = tup[3]\n",
    "        break\n",
    "\n",
    "if relevant_model_state == None:\n",
    "    print('Few shot learning classifier unable to match threshold, further tuning is required... ...')\n",
    "else:\n",
    "    print(f'Minimum k required to match performance threshold = {min_k}')"
   ]
  },
  {
   "cell_type": "code",
   "execution_count": null,
   "metadata": {},
   "outputs": [],
   "source": [
    "# evaluate(model, test_loader) ##TODO: Implement method\n"
   ]
  },
  {
   "cell_type": "code",
   "execution_count": null,
   "metadata": {},
   "outputs": [],
   "source": [
    "_, best_model_state = results[best_config]\n",
    "actuals, predictions = trainer.test(best_model_state, {'n_shot': best_config[0], 'embedding_size': best_config[1]})"
   ]
  }
 ],
 "metadata": {
  "kernelspec": {
   "display_name": "bt4012",
   "language": "python",
   "name": "python3"
  },
  "language_info": {
   "codemirror_mode": {
    "name": "ipython",
    "version": 3
   },
   "file_extension": ".py",
   "mimetype": "text/x-python",
   "name": "python",
   "nbconvert_exporter": "python",
   "pygments_lexer": "ipython3",
   "version": "3.10.13"
  }
 },
 "nbformat": 4,
 "nbformat_minor": 2
}
