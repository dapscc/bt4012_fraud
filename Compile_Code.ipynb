{
 "cells": [
  {
   "cell_type": "code",
   "execution_count": 1,
   "metadata": {},
   "outputs": [],
   "source": [
    "import nbformat\n",
    "\n",
    "def combine_notebooks(notebook_paths, output_path):\n",
    "    combined_notebook = nbformat.v4.new_notebook()\n",
    "\n",
    "    for path in notebook_paths:\n",
    "        with open(path, 'r', encoding='utf-8') as notebook_file:\n",
    "            notebook_content = nbformat.read(notebook_file, as_version=4)\n",
    "            combined_notebook.cells.extend(notebook_content.cells)\n",
    "\n",
    "    with open(output_path, 'w', encoding='utf-8') as output_file:\n",
    "        nbformat.write(combined_notebook, output_file)\n",
    "\n",
    "\n"
   ]
  },
  {
   "cell_type": "code",
   "execution_count": 2,
   "metadata": {},
   "outputs": [
    {
     "name": "stderr",
     "output_type": "stream",
     "text": [
      "c:\\Users\\USER\\AppData\\Local\\Programs\\Python\\Python311\\Lib\\site-packages\\nbformat\\__init__.py:129: MissingIDFieldWarning: Code cell is missing an id field, this will become a hard error in future nbformat versions. You may want to use `normalize()` on your notebooks before validations (available since nbformat 5.1.4). Previous versions of nbformat are fixing this issue transparently, and will stop doing so in the future.\n",
      "  validate(nb)\n"
     ]
    }
   ],
   "source": [
    "combine_order = ['eda.ipynb', \"processing_metric_functions.ipynb\", 'logreg.ipynb', \n",
    "                 'randomforest.ipynb', \"k_nearest_neighbours.ipynb\", \"deep_learning.ipynb\"]\n",
    "\n",
    "combine_order += ['few_shot_classifier.ipynb' ] ### Add few shot selection file here\n",
    "\n",
    "combine_notebooks(combine_order, 'combined_notebooks.ipynb')"
   ]
  }
 ],
 "metadata": {
  "kernelspec": {
   "display_name": "Python 3",
   "language": "python",
   "name": "python3"
  },
  "language_info": {
   "codemirror_mode": {
    "name": "ipython",
    "version": 3
   },
   "file_extension": ".py",
   "mimetype": "text/x-python",
   "name": "python",
   "nbconvert_exporter": "python",
   "pygments_lexer": "ipython3",
   "version": "3.11.2"
  },
  "orig_nbformat": 4
 },
 "nbformat": 4,
 "nbformat_minor": 2
}
