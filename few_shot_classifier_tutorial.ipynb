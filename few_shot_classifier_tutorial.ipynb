{
 "cells": [
  {
   "cell_type": "code",
   "execution_count": 26,
   "metadata": {},
   "outputs": [],
   "source": [
    "import numpy as np\n",
    "import random\n",
    "import time\n",
    "\n",
    "import torch\n",
    "from torch import nn, optim\n",
    "from torch.optim import SGD, Optimizer\n",
    "from torch.optim.lr_scheduler import MultiStepLR\n",
    "from torch.utils.data import Dataset, DataLoader\n",
    "from torch.utils.tensorboard import SummaryWriter\n",
    "from tqdm import tqdm\n",
    "\n",
    "from easyfsl.samplers import TaskSampler\n",
    "from easyfsl.utils import sliding_average\n",
    "\n",
    "from get_processed_data import get_processed_data"
   ]
  },
  {
   "cell_type": "markdown",
   "metadata": {},
   "source": [
    "### Splitting data"
   ]
  },
  {
   "cell_type": "code",
   "execution_count": 15,
   "metadata": {},
   "outputs": [
    {
     "name": "stdout",
     "output_type": "stream",
     "text": [
      "Training set shape: (12335, 55) (12335,)\n",
      "Validation set shape: (1542, 55) (1542,)\n",
      "Test set shape: (1542, 55) (1542,)\n",
      "724 11611\n"
     ]
    }
   ],
   "source": [
    "df, X_train, y_train, X_val, y_val, X_test, y_test = get_processed_data()\n",
    "\n",
    "train_df = X_train.copy()\n",
    "train_df['Fraud'] = y_train\n",
    "train_df['Normal'] = 1 - y_train\n",
    "\n",
    "validation_df = X_val.copy()\n",
    "validation_df['Fraud'] = y_val\n",
    "validation_df['Normal'] = 1 - y_val\n",
    "\n",
    "test_df = X_test.copy()\n",
    "test_df['Fraud'] = y_test\n",
    "test_df['Normal'] = 1 - y_test\n",
    "\n",
    "ones = 0\n",
    "zeroes = 0\n",
    "for y in y_train:\n",
    "    if y == 1:\n",
    "        ones += 1\n",
    "    else:\n",
    "        zeroes += 1\n",
    "print(ones, zeroes)"
   ]
  },
  {
   "cell_type": "markdown",
   "metadata": {},
   "source": [
    "### Custom dataset object"
   ]
  },
  {
   "cell_type": "code",
   "execution_count": 21,
   "metadata": {},
   "outputs": [],
   "source": [
    "## Needs to be a FewShotDataset / torch Dataset with .get_labels; consider using WrapFewShotDataset?\n",
    "class FSLDataset (Dataset):\n",
    "    def __init__ (self, dataframe, label_idx = -1, transformation = None):\n",
    "        self.dataframe = dataframe\n",
    "        self.transformation = transformation\n",
    "        self.label_idx = label_idx\n",
    "        print('Disclaimer: It is assumed that the label is the last column of the input dataframe... ...')\n",
    "\n",
    "    def __len__ (self):\n",
    "        return len(self.dataframe)\n",
    "    \n",
    "    def __getitem__ (self, index):\n",
    "        relevant_row = self.dataframe.iloc[index, :].values\n",
    "        features = relevant_row[ : self.label_idx]\n",
    "        label = relevant_row[self.label_idx]\n",
    "\n",
    "        if self.transformation != None:\n",
    "            features = self.transformation(features)\n",
    "        \n",
    "        return torch.Tensor(features), torch.Tensor([label])\n",
    "    \n",
    "    ## Required to use EasyFSL methods; returns a list of dataset's labels (TBC)\n",
    "    def get_labels (self):      \n",
    "        ret_list = self.dataframe.iloc[ : , self.label_idx]\n",
    "\n",
    "        return ret_list.tolist()"
   ]
  },
  {
   "cell_type": "markdown",
   "metadata": {},
   "source": [
    "### Prototypical network"
   ]
  },
  {
   "cell_type": "code",
   "execution_count": 7,
   "metadata": {},
   "outputs": [],
   "source": [
    "class PrototypicalNetwork (nn.Module):\n",
    "    def __init__(self, backbone: nn.Module):\n",
    "        super(PrototypicalNetwork, self).__init__()\n",
    "        self.backbone = backbone\n",
    "\n",
    "    ## Predict query labels using labelled support data\n",
    "    def forward (self, support_data: torch.Tensor, support_labels: torch.Tensor, \n",
    "                 query_data: torch.Tensor) -> torch.Tensor:\n",
    "        ## Extract features / embedding of support and query data (using backbone)\n",
    "        z_support = self.backbone.forward(support_data)\n",
    "        z_query = self.backbone.forward(query_data)\n",
    "\n",
    "        ## Infer no. of unique classes from support set labels\n",
    "        n_way = len(torch.unique(support_labels))\n",
    "\n",
    "        ## Construct prototypes\n",
    "            ## Prototype i = Mean of embeddings of all support data with label i\n",
    "        z_proto = torch.cat(\n",
    "            [\n",
    "                z_support[torch.nonzero(support_labels == label)].mean(0) \\\n",
    "                    for label in range(n_way)\n",
    "            ]\n",
    "        )\n",
    "\n",
    "        ## Compute euclidean distance from query data to prototypes, and classification scores\n",
    "        dists = torch.cdist(z_query, z_proto)\n",
    "        classification_scores = -dists ## Smaller distance -> Higher score\n",
    "\n",
    "        return classification_scores ## To be compared to actual query labels"
   ]
  },
  {
   "cell_type": "markdown",
   "metadata": {},
   "source": [
    "### Model training (meta-learning / episodic training)"
   ]
  },
  {
   "cell_type": "markdown",
   "metadata": {},
   "source": [
    "Episodic training simulates the few-shot learning scenario to train a prototypical network. Training data is organized into episodes that resemble few-shot tasks."
   ]
  },
  {
   "cell_type": "markdown",
   "metadata": {},
   "source": [
    "Training loop"
   ]
  },
  {
   "cell_type": "code",
   "execution_count": 30,
   "metadata": {},
   "outputs": [],
   "source": [
    "## Represents one epoch / episode of multiple tasks\n",
    "    ## Each epoch produces a new model\n",
    "def training_epoch (model, data_loader: DataLoader, optimizer: Optimizer, loss_fn):\n",
    "    all_loss = []\n",
    "    model.train()\n",
    "\n",
    "    with tqdm(enumerate(data_loader), total = len(data_loader)) as tqdm_train:\n",
    "        ## For each task, make prediction, calculate loss, update model params\n",
    "        for task_idx, (support_data, support_labels, query_data, query_labels, _) in tqdm_train:\n",
    "                       \n",
    "            optimizer.zero_grad()\n",
    "            classification_scores = model.forward(support_data, support_labels, query_data) ##TODO: Define method\n",
    "\n",
    "            task_loss = loss_fn(classification_scores, query_labels)\n",
    "            task_loss.backward()\n",
    "            optimizer.step()\n",
    "\n",
    "            all_loss.append(task_loss)\n",
    "\n",
    "            tqdm_train.set_postfix(loss = all_loss.mean())\n",
    "    \n",
    "    return all_loss.mean()"
   ]
  },
  {
   "cell_type": "markdown",
   "metadata": {},
   "source": [
    "Set up"
   ]
  },
  {
   "cell_type": "code",
   "execution_count": 8,
   "metadata": {},
   "outputs": [],
   "source": [
    "random_seed = 0\n",
    "np.random.seed(random_seed)\n",
    "torch.manual_seed(random_seed)\n",
    "random.seed(random_seed)"
   ]
  },
  {
   "cell_type": "code",
   "execution_count": 24,
   "metadata": {},
   "outputs": [
    {
     "name": "stdout",
     "output_type": "stream",
     "text": [
      "Disclaimer: It is assumed that the label is the last column of the input dataframe... ...\n",
      "Disclaimer: It is assumed that the label is the last column of the input dataframe... ...\n"
     ]
    }
   ],
   "source": [
    "N_WAY = 2\n",
    "N_SHOT = 5\n",
    "N_QUERY = 10\n",
    "\n",
    "N_TASKS_PER_EPOCH = 100 \n",
    "N_VALIDATION_TASKS = 100 \n",
    "\n",
    "## Datasets need to be a FewShotDataset / torch Dataset with .get_labels\n",
    "train_set = FSLDataset(train_df)\n",
    "validation_set = FSLDataset(validation_df)\n",
    "\n",
    "## Sampliers used to generate tasks\n",
    "train_sampler = TaskSampler(dataset = train_set, n_way = N_WAY, n_shot = N_SHOT, \n",
    "                            n_query = N_QUERY, n_tasks = N_TASKS_PER_EPOCH)\n",
    "validation_sampler = TaskSampler(dataset = validation_set, n_way = N_WAY, n_shot = N_SHOT,\n",
    "                                 n_query = N_QUERY, n_tasks = N_VALIDATION_TASKS)\n",
    "\n",
    "## Loader generates an iterable given a dataset and a sampler\n",
    "train_loader = DataLoader(dataset = train_set, batch_sampler = train_sampler, pin_memory = True,\n",
    "                          collate_fn = train_sampler.episodic_collate_fn)\n",
    "validation_loader = DataLoader(dataset = validation_set, batch_sampler = validation_sampler, pin_memory = True,\n",
    "                               collate_fn = validation_sampler.episodic_collate_fn)"
   ]
  },
  {
   "cell_type": "markdown",
   "metadata": {},
   "source": [
    "Initializing optimizer, loss function, etc"
   ]
  },
  {
   "cell_type": "code",
   "execution_count": null,
   "metadata": {},
   "outputs": [],
   "source": [
    "## Loss fn\n",
    "LOSS_FN = nn.CrossEntropyLoss()\n",
    "\n",
    "\n",
    "## Scheduler\n",
    "    ## Scales learning rate by gamma at the designated milestones\n",
    "scheduler_milestones = [120, 160]\n",
    "scheduler_gamma = 0.1\n",
    "\n",
    "\n",
    "## Optimizer\n",
    "model = None ##TODO: Implement model\n",
    "LEARNING_RATE = 0.001\n",
    "MOMENTUM = 0.9\n",
    "DECAY = 5e-4\n",
    "train_optimizer = optim.SGD(model.parameters(), lr = LEARNING_RATE, momentum = MOMENTUM, \n",
    "                            weight_decay = DECAY)\n",
    "train_scheduler = MultiStepLR(optimizer = train_optimizer, milestones = scheduler_milestones,\n",
    "                              gamma = scheduler_gamma)\n",
    "\n",
    "\n",
    "## Writer\n",
    "log_dir = 'fsl_logs'\n",
    "tb_writer = SummaryWriter(log_dir = log_dir)\n"
   ]
  },
  {
   "cell_type": "markdown",
   "metadata": {},
   "source": [
    "Train the model"
   ]
  },
  {
   "cell_type": "code",
   "execution_count": null,
   "metadata": {},
   "outputs": [],
   "source": [
    "N_EPOCHS = 200\n",
    "log_update_frequency = 10\n",
    "\n",
    "## Track best parameters (weights and biases) and performance of model\n",
    "best_state = model.state_dict()\n",
    "best_validation_accuracy = 0.0\n",
    "\n",
    "for epoch in range(N_EPOCHS):\n",
    "    print(f'Epoch: {epoch}')\n",
    "    \n",
    "    average_epoch_loss = training_epoch(model, train_loader, train_optimizer)\n",
    "    validation_accuracy = evaluate(model, validation_loader) \n",
    "\n",
    "    if validation_accuracy > best_validation_accuracy:\n",
    "        best_validation_accuracy = validation_accuracy\n",
    "        best_state = model.state_dict()\n",
    "        print(\"Ding ding ding! We found a new best model!\")\n",
    "\n",
    "    tb_writer.add_scalar(\"Train/loss\", average_epoch_loss, epoch)\n",
    "    tb_writer.add_scalar(\"Val/acc\", validation_accuracy, epoch)\n",
    "\n",
    "    ## Update the scheduler such that it knows when to adjust the learning rate\n",
    "    train_scheduler.step()\n",
    "\n",
    "\n",
    "## Retrieve the best model\n",
    "missing_keys, unexpected_keys = model.load_state_dict(best_state)\n"
   ]
  },
  {
   "cell_type": "markdown",
   "metadata": {},
   "source": [
    "### Model evaluation"
   ]
  },
  {
   "cell_type": "code",
   "execution_count": null,
   "metadata": {},
   "outputs": [],
   "source": [
    "evaluate(model, test_loader) ##TODO: Implement method"
   ]
  }
 ],
 "metadata": {
  "kernelspec": {
   "display_name": "bt4012",
   "language": "python",
   "name": "python3"
  },
  "language_info": {
   "codemirror_mode": {
    "name": "ipython",
    "version": 3
   },
   "file_extension": ".py",
   "mimetype": "text/x-python",
   "name": "python",
   "nbconvert_exporter": "python",
   "pygments_lexer": "ipython3",
   "version": "3.10.12"
  }
 },
 "nbformat": 4,
 "nbformat_minor": 2
}
