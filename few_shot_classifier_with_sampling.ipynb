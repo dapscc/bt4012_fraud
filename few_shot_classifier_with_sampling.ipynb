{
 "cells": [
  {
   "cell_type": "code",
   "execution_count": 1,
   "metadata": {},
   "outputs": [
    {
     "name": "stderr",
     "output_type": "stream",
     "text": [
      "c:\\Users\\user\\anaconda3\\envs\\bt4012\\lib\\site-packages\\torchvision\\io\\image.py:13: UserWarning: Failed to load image Python extension: '[WinError 127] The specified procedure could not be found'If you don't plan on using image functionality from `torchvision.io`, you can ignore this warning. Otherwise, there might be something wrong with your environment. Did you have `libjpeg` or `libpng` installed before building `torchvision` from source?\n",
      "  warn(\n"
     ]
    }
   ],
   "source": [
    "import numpy as np\n",
    "import random\n",
    "import time\n",
    "\n",
    "import torch\n",
    "from torch import nn, optim\n",
    "from torch.optim.lr_scheduler import MultiStepLR\n",
    "from torch.utils.data import DataLoader\n",
    "from torch.utils.tensorboard import SummaryWriter\n",
    "from tqdm import tqdm\n",
    "\n",
    "from easyfsl.samplers import TaskSampler\n",
    "from easyfsl.utils import evaluate\n",
    "from easyfsl.methods import FewShotClassifier, PrototypicalNetworks\n",
    "\n",
    "from statistics import mean\n",
    "\n",
    "from get_processed_data import get_processed_data\n",
    "from sampling import undersample, oversample, smote, ncr\n",
    "from FSLMethods import training_epoch, evaluate_model\n",
    "from FSLDataset import FSLDataset\n",
    "from FSLNetworks import DummyNetwork"
   ]
  },
  {
   "cell_type": "markdown",
   "metadata": {},
   "source": [
    "### Splitting data"
   ]
  },
  {
   "cell_type": "code",
   "execution_count": 2,
   "metadata": {},
   "outputs": [
    {
     "name": "stdout",
     "output_type": "stream",
     "text": [
      "Training set shape: (12335, 55) (12335,)\n",
      "Validation set shape: (1542, 55) (1542,)\n",
      "Test set shape: (1542, 55) (1542,)\n"
     ]
    }
   ],
   "source": [
    "df, X_train, y_train, X_val, y_val, X_test, y_test = get_processed_data()\n"
   ]
  },
  {
   "cell_type": "markdown",
   "metadata": {},
   "source": [
    "Sampling"
   ]
  },
  {
   "cell_type": "code",
   "execution_count": 3,
   "metadata": {},
   "outputs": [],
   "source": [
    "def get_sampled_data (X_train, y_train, sampling_method):\n",
    "    new_X_train, new_y_train = None, None\n",
    "    \n",
    "    if sampling_method == 'oversampling':\n",
    "        new_X_train, new_y_train = oversample(X_train, y_train)\n",
    "    elif sampling_method == 'undersampling':\n",
    "        new_X_train, new_y_train = undersample(X_train, y_train)\n",
    "    elif sampling_method == 'ncr':\n",
    "        new_X_train, new_y_train = ncr(X_train, y_train)\n",
    "    else:\n",
    "        new_X_train, new_y_train = smote(X_train, y_train)\n",
    "\n",
    "    return new_X_train, new_y_train"
   ]
  },
  {
   "cell_type": "code",
   "execution_count": 4,
   "metadata": {},
   "outputs": [],
   "source": [
    "new_X_train, new_y_train = get_sampled_data(X_train, y_train, sampling_method = 'smote')\n",
    "\n",
    "train_df = new_X_train.copy()\n",
    "train_df['Fraud'] = new_y_train\n",
    "# train_df['Normal'] = 1 - y_train\n",
    "\n",
    "validation_df = X_val.copy()\n",
    "validation_df['Fraud'] = y_val\n",
    "# validation_df['Normal'] = 1 - y_val\n",
    "\n",
    "test_df = X_test.copy()\n",
    "test_df['Fraud'] = y_test\n",
    "# test_df['Normal'] = 1 - y_test"
   ]
  },
  {
   "cell_type": "markdown",
   "metadata": {},
   "source": [
    "### Model training (meta-learning / episodic training)"
   ]
  },
  {
   "cell_type": "markdown",
   "metadata": {},
   "source": [
    "Episodic training simulates the few-shot learning scenario to train a prototypical network. Training data is organized into episodes that resemble few-shot tasks."
   ]
  },
  {
   "cell_type": "markdown",
   "metadata": {},
   "source": [
    "Set up"
   ]
  },
  {
   "cell_type": "code",
   "execution_count": 5,
   "metadata": {},
   "outputs": [],
   "source": [
    "random_seed = 0\n",
    "np.random.seed(random_seed)\n",
    "torch.manual_seed(random_seed)\n",
    "random.seed(random_seed)"
   ]
  },
  {
   "cell_type": "code",
   "execution_count": 6,
   "metadata": {},
   "outputs": [
    {
     "name": "stdout",
     "output_type": "stream",
     "text": [
      "Disclaimer: It is assumed that the label is the last column of the input dataframe... ...\n",
      "Disclaimer: It is assumed that the label is the last column of the input dataframe... ...\n"
     ]
    }
   ],
   "source": [
    "## Each task contains N_WAY * (N_SHOT + N_QUERY) samples\n",
    "N_WAY = 2\n",
    "N_SHOT = 2\n",
    "N_QUERY = 3\n",
    "\n",
    "N_TASKS_PER_EPOCH = 10 \n",
    "N_VALIDATION_TASKS = 100 \n",
    "\n",
    "## Datasets need to be a FewShotDataset / torch Dataset with .get_labels\n",
    "train_set = FSLDataset(train_df)\n",
    "validation_set = FSLDataset(validation_df)\n",
    "\n",
    "## Sampliers used to generate tasks\n",
    "train_sampler = TaskSampler(dataset = train_set, n_way = N_WAY, n_shot = N_SHOT, \n",
    "                            n_query = N_QUERY, n_tasks = N_TASKS_PER_EPOCH)\n",
    "validation_sampler = TaskSampler(dataset = validation_set, n_way = N_WAY, n_shot = N_SHOT,\n",
    "                                 n_query = N_QUERY, n_tasks = N_VALIDATION_TASKS)\n",
    "\n",
    "## Loader generates an iterable given a dataset and a sampler\n",
    "train_loader = DataLoader(dataset = train_set, batch_sampler = train_sampler, pin_memory = True,\n",
    "                          collate_fn = train_sampler.episodic_collate_fn)\n",
    "validation_loader = DataLoader(dataset = validation_set, batch_sampler = validation_sampler, pin_memory = True,\n",
    "                               collate_fn = validation_sampler.episodic_collate_fn)"
   ]
  },
  {
   "cell_type": "markdown",
   "metadata": {},
   "source": [
    "Initializing optimizer, loss function, etc"
   ]
  },
  {
   "cell_type": "code",
   "execution_count": 7,
   "metadata": {},
   "outputs": [],
   "source": [
    "## Loss fn\n",
    "LOSS_FN = nn.CrossEntropyLoss()\n",
    "\n",
    "\n",
    "## Scheduler\n",
    "    ## Scales learning rate by gamma at the designated milestones\n",
    "scheduler_milestones = [70, 85]\n",
    "scheduler_gamma = 0.1\n",
    "\n",
    "\n",
    "## Optimizer\n",
    "backbone = DummyNetwork(in_dim = len(X_train.columns), hidden_dim = 256, out_dim = 4) ## TODO: What should the correct dimensions be?\n",
    "model = PrototypicalNetworks(backbone, use_softmax = True)\n",
    "\n",
    "LEARNING_RATE = 0.001\n",
    "MOMENTUM = 0.9\n",
    "DECAY = 5e-4\n",
    "train_optimizer = optim.SGD(params = model.parameters(), lr = LEARNING_RATE, momentum = MOMENTUM, \n",
    "                            weight_decay = DECAY)\n",
    "train_scheduler = MultiStepLR(optimizer = train_optimizer, milestones = scheduler_milestones,\n",
    "                              gamma = scheduler_gamma)\n",
    "\n",
    "\n",
    "## Writer\n",
    "log_dir = 'fsl_logs'\n",
    "tb_writer = SummaryWriter(log_dir = log_dir)\n"
   ]
  },
  {
   "cell_type": "markdown",
   "metadata": {},
   "source": [
    "Train the model"
   ]
  },
  {
   "cell_type": "code",
   "execution_count": 8,
   "metadata": {},
   "outputs": [
    {
     "name": "stdout",
     "output_type": "stream",
     "text": [
      "Epoch: 0\n"
     ]
    },
    {
     "name": "stderr",
     "output_type": "stream",
     "text": [
      "100%|██████████| 10/10 [00:00<00:00, 76.62it/s, loss=0.759]\n",
      "100%|██████████| 100/100 [00:01<00:00, 76.53it/s, f1=0.54, recall=0.537]\n"
     ]
    },
    {
     "name": "stdout",
     "output_type": "stream",
     "text": [
      "Ding ding ding! We found a new best model!\n",
      "Epoch: 1\n"
     ]
    },
    {
     "name": "stderr",
     "output_type": "stream",
     "text": [
      "100%|██████████| 10/10 [00:00<00:00, 141.45it/s, loss=0.76]\n",
      "100%|██████████| 100/100 [00:01<00:00, 78.68it/s, f1=0.485, recall=0.477]\n"
     ]
    },
    {
     "name": "stdout",
     "output_type": "stream",
     "text": [
      "Epoch: 2\n"
     ]
    },
    {
     "name": "stderr",
     "output_type": "stream",
     "text": [
      "100%|██████████| 10/10 [00:00<00:00, 112.57it/s, loss=0.718]\n",
      "  0%|          | 0/100 [00:00<?, ?it/s]c:\\Users\\user\\anaconda3\\envs\\bt4012\\lib\\site-packages\\sklearn\\metrics\\_classification.py:1469: UndefinedMetricWarning: Precision is ill-defined and being set to 0.0 due to no predicted samples. Use `zero_division` parameter to control this behavior.\n",
      "  _warn_prf(average, modifier, msg_start, len(result))\n",
      "100%|██████████| 100/100 [00:01<00:00, 82.70it/s, f1=0.486, recall=0.48]\n"
     ]
    },
    {
     "name": "stdout",
     "output_type": "stream",
     "text": [
      "Epoch: 3\n"
     ]
    },
    {
     "name": "stderr",
     "output_type": "stream",
     "text": [
      "100%|██████████| 10/10 [00:00<00:00, 125.03it/s, loss=0.701]\n",
      "100%|██████████| 100/100 [00:01<00:00, 70.85it/s, f1=0.481, recall=0.477]\n"
     ]
    },
    {
     "name": "stdout",
     "output_type": "stream",
     "text": [
      "Epoch: 4\n"
     ]
    },
    {
     "name": "stderr",
     "output_type": "stream",
     "text": [
      "100%|██████████| 10/10 [00:00<00:00, 108.69it/s, loss=0.695]\n",
      "100%|██████████| 100/100 [00:01<00:00, 67.75it/s, f1=0.488, recall=0.497]\n"
     ]
    },
    {
     "name": "stdout",
     "output_type": "stream",
     "text": [
      "Epoch: 5\n"
     ]
    },
    {
     "name": "stderr",
     "output_type": "stream",
     "text": [
      "100%|██████████| 10/10 [00:00<00:00, 115.21it/s, loss=0.714]\n",
      "100%|██████████| 100/100 [00:01<00:00, 60.29it/s, f1=0.509, recall=0.5] \n"
     ]
    },
    {
     "name": "stdout",
     "output_type": "stream",
     "text": [
      "Epoch: 6\n"
     ]
    },
    {
     "name": "stderr",
     "output_type": "stream",
     "text": [
      "100%|██████████| 10/10 [00:00<00:00, 80.03it/s, loss=0.697]\n",
      "100%|██████████| 100/100 [00:01<00:00, 59.55it/s, f1=0.42, recall=0.387]\n"
     ]
    },
    {
     "name": "stdout",
     "output_type": "stream",
     "text": [
      "Epoch: 7\n"
     ]
    },
    {
     "name": "stderr",
     "output_type": "stream",
     "text": [
      "100%|██████████| 10/10 [00:00<00:00, 83.43it/s, loss=0.682]\n",
      "100%|██████████| 100/100 [00:01<00:00, 63.41it/s, f1=0.477, recall=0.457]\n"
     ]
    },
    {
     "name": "stdout",
     "output_type": "stream",
     "text": [
      "Epoch: 8\n"
     ]
    },
    {
     "name": "stderr",
     "output_type": "stream",
     "text": [
      "100%|██████████| 10/10 [00:00<00:00, 140.42it/s, loss=0.704]\n",
      "100%|██████████| 100/100 [00:01<00:00, 51.38it/s, f1=0.477, recall=0.453]\n"
     ]
    },
    {
     "name": "stdout",
     "output_type": "stream",
     "text": [
      "Epoch: 9\n"
     ]
    },
    {
     "name": "stderr",
     "output_type": "stream",
     "text": [
      "100%|██████████| 10/10 [00:00<00:00, 133.31it/s, loss=0.776]\n",
      "100%|██████████| 100/100 [00:01<00:00, 54.83it/s, f1=0.493, recall=0.483]\n"
     ]
    },
    {
     "name": "stdout",
     "output_type": "stream",
     "text": [
      "Epoch: 10\n"
     ]
    },
    {
     "name": "stderr",
     "output_type": "stream",
     "text": [
      "100%|██████████| 10/10 [00:00<00:00, 122.08it/s, loss=0.731]\n",
      "100%|██████████| 100/100 [00:01<00:00, 53.35it/s, f1=0.462, recall=0.44]\n"
     ]
    },
    {
     "name": "stdout",
     "output_type": "stream",
     "text": [
      "Epoch: 11\n"
     ]
    },
    {
     "name": "stderr",
     "output_type": "stream",
     "text": [
      "100%|██████████| 10/10 [00:00<00:00, 142.71it/s, loss=0.692]\n",
      "100%|██████████| 100/100 [00:01<00:00, 71.22it/s, f1=0.526, recall=0.53]\n"
     ]
    },
    {
     "name": "stdout",
     "output_type": "stream",
     "text": [
      "Epoch: 12\n"
     ]
    },
    {
     "name": "stderr",
     "output_type": "stream",
     "text": [
      "100%|██████████| 10/10 [00:00<00:00, 139.14it/s, loss=0.706]\n",
      "  0%|          | 0/100 [00:00<?, ?it/s]c:\\Users\\user\\anaconda3\\envs\\bt4012\\lib\\site-packages\\sklearn\\metrics\\_classification.py:1469: UndefinedMetricWarning: Precision is ill-defined and being set to 0.0 due to no predicted samples. Use `zero_division` parameter to control this behavior.\n",
      "  _warn_prf(average, modifier, msg_start, len(result))\n",
      "100%|██████████| 100/100 [00:01<00:00, 74.84it/s, f1=0.499, recall=0.49]\n"
     ]
    },
    {
     "name": "stdout",
     "output_type": "stream",
     "text": [
      "Epoch: 13\n"
     ]
    },
    {
     "name": "stderr",
     "output_type": "stream",
     "text": [
      "100%|██████████| 10/10 [00:00<00:00, 117.42it/s, loss=0.703]\n",
      "  0%|          | 0/100 [00:00<?, ?it/s]c:\\Users\\user\\anaconda3\\envs\\bt4012\\lib\\site-packages\\sklearn\\metrics\\_classification.py:1469: UndefinedMetricWarning: Precision is ill-defined and being set to 0.0 due to no predicted samples. Use `zero_division` parameter to control this behavior.\n",
      "  _warn_prf(average, modifier, msg_start, len(result))\n",
      "100%|██████████| 100/100 [00:01<00:00, 74.24it/s, f1=0.494, recall=0.497]\n"
     ]
    },
    {
     "name": "stdout",
     "output_type": "stream",
     "text": [
      "Epoch: 14\n"
     ]
    },
    {
     "name": "stderr",
     "output_type": "stream",
     "text": [
      "100%|██████████| 10/10 [00:00<00:00, 85.83it/s, loss=0.688]\n",
      "100%|██████████| 100/100 [00:01<00:00, 68.10it/s, f1=0.483, recall=0.473]\n"
     ]
    },
    {
     "name": "stdout",
     "output_type": "stream",
     "text": [
      "Epoch: 15\n"
     ]
    },
    {
     "name": "stderr",
     "output_type": "stream",
     "text": [
      "100%|██████████| 10/10 [00:00<00:00, 155.05it/s, loss=0.723]\n",
      "100%|██████████| 100/100 [00:01<00:00, 67.23it/s, f1=0.487, recall=0.463]\n"
     ]
    },
    {
     "name": "stdout",
     "output_type": "stream",
     "text": [
      "Epoch: 16\n"
     ]
    },
    {
     "name": "stderr",
     "output_type": "stream",
     "text": [
      "100%|██████████| 10/10 [00:00<00:00, 131.12it/s, loss=0.697]\n",
      "100%|██████████| 100/100 [00:01<00:00, 70.56it/s, f1=0.473, recall=0.46]\n"
     ]
    },
    {
     "name": "stdout",
     "output_type": "stream",
     "text": [
      "Epoch: 17\n"
     ]
    },
    {
     "name": "stderr",
     "output_type": "stream",
     "text": [
      "100%|██████████| 10/10 [00:00<00:00, 138.16it/s, loss=0.686]\n",
      "100%|██████████| 100/100 [00:01<00:00, 70.54it/s, f1=0.481, recall=0.46]\n"
     ]
    },
    {
     "name": "stdout",
     "output_type": "stream",
     "text": [
      "Epoch: 18\n"
     ]
    },
    {
     "name": "stderr",
     "output_type": "stream",
     "text": [
      "100%|██████████| 10/10 [00:00<00:00, 119.34it/s, loss=0.72]\n",
      "100%|██████████| 100/100 [00:01<00:00, 72.19it/s, f1=0.52, recall=0.517]\n"
     ]
    },
    {
     "name": "stdout",
     "output_type": "stream",
     "text": [
      "Epoch: 19\n"
     ]
    },
    {
     "name": "stderr",
     "output_type": "stream",
     "text": [
      "100%|██████████| 10/10 [00:00<00:00, 138.58it/s, loss=0.69]\n",
      "100%|██████████| 100/100 [00:01<00:00, 64.37it/s, f1=0.497, recall=0.473]\n"
     ]
    },
    {
     "name": "stdout",
     "output_type": "stream",
     "text": [
      "Epoch: 20\n"
     ]
    },
    {
     "name": "stderr",
     "output_type": "stream",
     "text": [
      "100%|██████████| 10/10 [00:00<00:00, 121.57it/s, loss=0.731]\n",
      "100%|██████████| 100/100 [00:01<00:00, 67.31it/s, f1=0.478, recall=0.457]\n"
     ]
    },
    {
     "name": "stdout",
     "output_type": "stream",
     "text": [
      "Epoch: 21\n"
     ]
    },
    {
     "name": "stderr",
     "output_type": "stream",
     "text": [
      "100%|██████████| 10/10 [00:00<00:00, 163.98it/s, loss=0.719]\n",
      "100%|██████████| 100/100 [00:01<00:00, 68.47it/s, f1=0.521, recall=0.52]\n"
     ]
    },
    {
     "name": "stdout",
     "output_type": "stream",
     "text": [
      "Epoch: 22\n"
     ]
    },
    {
     "name": "stderr",
     "output_type": "stream",
     "text": [
      "100%|██████████| 10/10 [00:00<00:00, 87.60it/s, loss=0.739]\n",
      "100%|██████████| 100/100 [00:01<00:00, 71.47it/s, f1=0.492, recall=0.48]\n"
     ]
    },
    {
     "name": "stdout",
     "output_type": "stream",
     "text": [
      "Epoch: 23\n"
     ]
    },
    {
     "name": "stderr",
     "output_type": "stream",
     "text": [
      "100%|██████████| 10/10 [00:00<00:00, 161.45it/s, loss=0.736]\n",
      "100%|██████████| 100/100 [00:01<00:00, 57.17it/s, f1=0.503, recall=0.483]\n"
     ]
    },
    {
     "name": "stdout",
     "output_type": "stream",
     "text": [
      "Epoch: 24\n"
     ]
    },
    {
     "name": "stderr",
     "output_type": "stream",
     "text": [
      "100%|██████████| 10/10 [00:00<00:00, 130.50it/s, loss=0.659]\n",
      "100%|██████████| 100/100 [00:01<00:00, 62.61it/s, f1=0.481, recall=0.457]\n"
     ]
    },
    {
     "name": "stdout",
     "output_type": "stream",
     "text": [
      "Epoch: 25\n"
     ]
    },
    {
     "name": "stderr",
     "output_type": "stream",
     "text": [
      "100%|██████████| 10/10 [00:00<00:00, 76.62it/s, loss=0.712]\n",
      "100%|██████████| 100/100 [00:01<00:00, 67.43it/s, f1=0.51, recall=0.493]\n"
     ]
    },
    {
     "name": "stdout",
     "output_type": "stream",
     "text": [
      "Epoch: 26\n"
     ]
    },
    {
     "name": "stderr",
     "output_type": "stream",
     "text": [
      "100%|██████████| 10/10 [00:00<00:00, 138.17it/s, loss=0.671]\n",
      "100%|██████████| 100/100 [00:01<00:00, 67.86it/s, f1=0.487, recall=0.493]\n"
     ]
    },
    {
     "name": "stdout",
     "output_type": "stream",
     "text": [
      "Epoch: 27\n"
     ]
    },
    {
     "name": "stderr",
     "output_type": "stream",
     "text": [
      "100%|██████████| 10/10 [00:00<00:00, 121.18it/s, loss=0.684]\n",
      "100%|██████████| 100/100 [00:01<00:00, 62.14it/s, f1=0.493, recall=0.487]\n"
     ]
    },
    {
     "name": "stdout",
     "output_type": "stream",
     "text": [
      "Epoch: 28\n"
     ]
    },
    {
     "name": "stderr",
     "output_type": "stream",
     "text": [
      "100%|██████████| 10/10 [00:00<00:00, 82.77it/s, loss=0.727]\n",
      "100%|██████████| 100/100 [00:01<00:00, 58.26it/s, f1=0.485, recall=0.48]\n"
     ]
    },
    {
     "name": "stdout",
     "output_type": "stream",
     "text": [
      "Epoch: 29\n"
     ]
    },
    {
     "name": "stderr",
     "output_type": "stream",
     "text": [
      "100%|██████████| 10/10 [00:00<00:00, 85.15it/s, loss=0.701]\n",
      "100%|██████████| 100/100 [00:01<00:00, 62.89it/s, f1=0.492, recall=0.463]\n"
     ]
    },
    {
     "name": "stdout",
     "output_type": "stream",
     "text": [
      "Epoch: 30\n"
     ]
    },
    {
     "name": "stderr",
     "output_type": "stream",
     "text": [
      "100%|██████████| 10/10 [00:00<00:00, 106.33it/s, loss=0.661]\n",
      "100%|██████████| 100/100 [00:01<00:00, 60.19it/s, f1=0.527, recall=0.537]\n"
     ]
    },
    {
     "name": "stdout",
     "output_type": "stream",
     "text": [
      "Epoch: 31\n"
     ]
    },
    {
     "name": "stderr",
     "output_type": "stream",
     "text": [
      "100%|██████████| 10/10 [00:00<00:00, 133.08it/s, loss=0.66]\n",
      "100%|██████████| 100/100 [00:01<00:00, 52.08it/s, f1=0.404, recall=0.37]\n"
     ]
    },
    {
     "name": "stdout",
     "output_type": "stream",
     "text": [
      "Epoch: 32\n"
     ]
    },
    {
     "name": "stderr",
     "output_type": "stream",
     "text": [
      "100%|██████████| 10/10 [00:00<00:00, 154.41it/s, loss=0.71]\n",
      "  0%|          | 0/100 [00:00<?, ?it/s]c:\\Users\\user\\anaconda3\\envs\\bt4012\\lib\\site-packages\\sklearn\\metrics\\_classification.py:1469: UndefinedMetricWarning: Precision is ill-defined and being set to 0.0 due to no predicted samples. Use `zero_division` parameter to control this behavior.\n",
      "  _warn_prf(average, modifier, msg_start, len(result))\n",
      "100%|██████████| 100/100 [00:01<00:00, 54.44it/s, f1=0.486, recall=0.457]\n"
     ]
    },
    {
     "name": "stdout",
     "output_type": "stream",
     "text": [
      "Epoch: 33\n"
     ]
    },
    {
     "name": "stderr",
     "output_type": "stream",
     "text": [
      "100%|██████████| 10/10 [00:00<00:00, 126.63it/s, loss=0.68]\n",
      "100%|██████████| 100/100 [00:01<00:00, 53.61it/s, f1=0.463, recall=0.43]\n"
     ]
    },
    {
     "name": "stdout",
     "output_type": "stream",
     "text": [
      "Epoch: 34\n"
     ]
    },
    {
     "name": "stderr",
     "output_type": "stream",
     "text": [
      "100%|██████████| 10/10 [00:00<00:00, 116.06it/s, loss=0.669]\n",
      "100%|██████████| 100/100 [00:01<00:00, 66.54it/s, f1=0.481, recall=0.477]\n"
     ]
    },
    {
     "name": "stdout",
     "output_type": "stream",
     "text": [
      "Epoch: 35\n"
     ]
    },
    {
     "name": "stderr",
     "output_type": "stream",
     "text": [
      "100%|██████████| 10/10 [00:00<00:00, 125.20it/s, loss=0.685]\n",
      "100%|██████████| 100/100 [00:01<00:00, 53.17it/s, f1=0.495, recall=0.47]\n"
     ]
    },
    {
     "name": "stdout",
     "output_type": "stream",
     "text": [
      "Epoch: 36\n"
     ]
    },
    {
     "name": "stderr",
     "output_type": "stream",
     "text": [
      "100%|██████████| 10/10 [00:00<00:00, 138.96it/s, loss=0.73]\n",
      "100%|██████████| 100/100 [00:01<00:00, 63.11it/s, f1=0.527, recall=0.503]\n"
     ]
    },
    {
     "name": "stdout",
     "output_type": "stream",
     "text": [
      "Epoch: 37\n"
     ]
    },
    {
     "name": "stderr",
     "output_type": "stream",
     "text": [
      "100%|██████████| 10/10 [00:00<00:00, 134.70it/s, loss=0.686]\n",
      "100%|██████████| 100/100 [00:01<00:00, 60.90it/s, f1=0.454, recall=0.43]\n"
     ]
    },
    {
     "name": "stdout",
     "output_type": "stream",
     "text": [
      "Epoch: 38\n"
     ]
    },
    {
     "name": "stderr",
     "output_type": "stream",
     "text": [
      "100%|██████████| 10/10 [00:00<00:00, 86.44it/s, loss=0.622]\n",
      "100%|██████████| 100/100 [00:01<00:00, 67.69it/s, f1=0.489, recall=0.463]\n"
     ]
    },
    {
     "name": "stdout",
     "output_type": "stream",
     "text": [
      "Epoch: 39\n"
     ]
    },
    {
     "name": "stderr",
     "output_type": "stream",
     "text": [
      "100%|██████████| 10/10 [00:00<00:00, 123.71it/s, loss=0.679]\n",
      "100%|██████████| 100/100 [00:01<00:00, 62.56it/s, f1=0.478, recall=0.463]\n"
     ]
    },
    {
     "name": "stdout",
     "output_type": "stream",
     "text": [
      "Epoch: 40\n"
     ]
    },
    {
     "name": "stderr",
     "output_type": "stream",
     "text": [
      "100%|██████████| 10/10 [00:00<00:00, 130.53it/s, loss=0.733]\n",
      "100%|██████████| 100/100 [00:01<00:00, 62.07it/s, f1=0.47, recall=0.45] \n"
     ]
    },
    {
     "name": "stdout",
     "output_type": "stream",
     "text": [
      "Epoch: 41\n"
     ]
    },
    {
     "name": "stderr",
     "output_type": "stream",
     "text": [
      "100%|██████████| 10/10 [00:00<00:00, 123.42it/s, loss=0.684]\n",
      "100%|██████████| 100/100 [00:02<00:00, 46.56it/s, f1=0.521, recall=0.52]\n"
     ]
    },
    {
     "name": "stdout",
     "output_type": "stream",
     "text": [
      "Epoch: 42\n"
     ]
    },
    {
     "name": "stderr",
     "output_type": "stream",
     "text": [
      "100%|██████████| 10/10 [00:00<00:00, 113.58it/s, loss=0.659]\n",
      "100%|██████████| 100/100 [00:02<00:00, 48.36it/s, f1=0.514, recall=0.51]\n"
     ]
    },
    {
     "name": "stdout",
     "output_type": "stream",
     "text": [
      "Epoch: 43\n"
     ]
    },
    {
     "name": "stderr",
     "output_type": "stream",
     "text": [
      "100%|██████████| 10/10 [00:00<00:00, 95.85it/s, loss=0.714]\n",
      "  0%|          | 0/100 [00:00<?, ?it/s]c:\\Users\\user\\anaconda3\\envs\\bt4012\\lib\\site-packages\\sklearn\\metrics\\_classification.py:1469: UndefinedMetricWarning: Precision is ill-defined and being set to 0.0 due to no predicted samples. Use `zero_division` parameter to control this behavior.\n",
      "  _warn_prf(average, modifier, msg_start, len(result))\n",
      "100%|██████████| 100/100 [00:01<00:00, 50.49it/s, f1=0.534, recall=0.557]\n"
     ]
    },
    {
     "name": "stdout",
     "output_type": "stream",
     "text": [
      "Ding ding ding! We found a new best model!\n",
      "Epoch: 44\n"
     ]
    },
    {
     "name": "stderr",
     "output_type": "stream",
     "text": [
      "100%|██████████| 10/10 [00:00<00:00, 80.57it/s, loss=0.598]\n",
      "100%|██████████| 100/100 [00:01<00:00, 56.27it/s, f1=0.472, recall=0.437]\n"
     ]
    },
    {
     "name": "stdout",
     "output_type": "stream",
     "text": [
      "Epoch: 45\n"
     ]
    },
    {
     "name": "stderr",
     "output_type": "stream",
     "text": [
      "100%|██████████| 10/10 [00:00<00:00, 107.95it/s, loss=0.647]\n",
      "100%|██████████| 100/100 [00:01<00:00, 53.24it/s, f1=0.523, recall=0.53]\n"
     ]
    },
    {
     "name": "stdout",
     "output_type": "stream",
     "text": [
      "Epoch: 46\n"
     ]
    },
    {
     "name": "stderr",
     "output_type": "stream",
     "text": [
      "100%|██████████| 10/10 [00:00<00:00, 80.10it/s, loss=0.643]\n",
      "100%|██████████| 100/100 [00:01<00:00, 55.43it/s, f1=0.519, recall=0.51]\n"
     ]
    },
    {
     "name": "stdout",
     "output_type": "stream",
     "text": [
      "Epoch: 47\n"
     ]
    },
    {
     "name": "stderr",
     "output_type": "stream",
     "text": [
      "100%|██████████| 10/10 [00:00<00:00, 80.68it/s, loss=0.693]\n",
      "100%|██████████| 100/100 [00:01<00:00, 57.00it/s, f1=0.536, recall=0.527]\n"
     ]
    },
    {
     "name": "stdout",
     "output_type": "stream",
     "text": [
      "Epoch: 48\n"
     ]
    },
    {
     "name": "stderr",
     "output_type": "stream",
     "text": [
      "100%|██████████| 10/10 [00:00<00:00, 124.78it/s, loss=0.67]\n",
      "100%|██████████| 100/100 [00:01<00:00, 54.42it/s, f1=0.523, recall=0.54]\n"
     ]
    },
    {
     "name": "stdout",
     "output_type": "stream",
     "text": [
      "Epoch: 49\n"
     ]
    },
    {
     "name": "stderr",
     "output_type": "stream",
     "text": [
      "100%|██████████| 10/10 [00:00<00:00, 108.33it/s, loss=0.655]\n",
      "100%|██████████| 100/100 [00:02<00:00, 49.45it/s, f1=0.482, recall=0.47]\n"
     ]
    },
    {
     "name": "stdout",
     "output_type": "stream",
     "text": [
      "Epoch: 50\n"
     ]
    },
    {
     "name": "stderr",
     "output_type": "stream",
     "text": [
      "100%|██████████| 10/10 [00:00<00:00, 68.32it/s, loss=0.651]\n",
      "100%|██████████| 100/100 [00:02<00:00, 43.79it/s, f1=0.567, recall=0.59]\n"
     ]
    },
    {
     "name": "stdout",
     "output_type": "stream",
     "text": [
      "Ding ding ding! We found a new best model!\n",
      "Epoch: 51\n"
     ]
    },
    {
     "name": "stderr",
     "output_type": "stream",
     "text": [
      "100%|██████████| 10/10 [00:00<00:00, 91.97it/s, loss=0.655]\n",
      "100%|██████████| 100/100 [00:01<00:00, 59.26it/s, f1=0.486, recall=0.46]\n"
     ]
    },
    {
     "name": "stdout",
     "output_type": "stream",
     "text": [
      "Epoch: 52\n"
     ]
    },
    {
     "name": "stderr",
     "output_type": "stream",
     "text": [
      "100%|██████████| 10/10 [00:00<00:00, 82.89it/s, loss=0.608]\n",
      "100%|██████████| 100/100 [00:01<00:00, 65.11it/s, f1=0.497, recall=0.48]\n"
     ]
    },
    {
     "name": "stdout",
     "output_type": "stream",
     "text": [
      "Epoch: 53\n"
     ]
    },
    {
     "name": "stderr",
     "output_type": "stream",
     "text": [
      "100%|██████████| 10/10 [00:00<00:00, 101.81it/s, loss=0.635]\n",
      "100%|██████████| 100/100 [00:01<00:00, 59.33it/s, f1=0.51, recall=0.517]\n"
     ]
    },
    {
     "name": "stdout",
     "output_type": "stream",
     "text": [
      "Epoch: 54\n"
     ]
    },
    {
     "name": "stderr",
     "output_type": "stream",
     "text": [
      "100%|██████████| 10/10 [00:00<00:00, 96.39it/s, loss=0.686]\n",
      "100%|██████████| 100/100 [00:01<00:00, 69.69it/s, f1=0.497, recall=0.483]\n"
     ]
    },
    {
     "name": "stdout",
     "output_type": "stream",
     "text": [
      "Epoch: 55\n"
     ]
    },
    {
     "name": "stderr",
     "output_type": "stream",
     "text": [
      "100%|██████████| 10/10 [00:00<00:00, 111.23it/s, loss=0.725]\n",
      "100%|██████████| 100/100 [00:01<00:00, 69.46it/s, f1=0.514, recall=0.5] \n"
     ]
    },
    {
     "name": "stdout",
     "output_type": "stream",
     "text": [
      "Epoch: 56\n"
     ]
    },
    {
     "name": "stderr",
     "output_type": "stream",
     "text": [
      "100%|██████████| 10/10 [00:00<00:00, 84.97it/s, loss=0.628]\n",
      "100%|██████████| 100/100 [00:01<00:00, 63.62it/s, f1=0.525, recall=0.523]\n"
     ]
    },
    {
     "name": "stdout",
     "output_type": "stream",
     "text": [
      "Epoch: 57\n"
     ]
    },
    {
     "name": "stderr",
     "output_type": "stream",
     "text": [
      "100%|██████████| 10/10 [00:00<00:00, 94.22it/s, loss=0.685]\n",
      "100%|██████████| 100/100 [00:01<00:00, 66.38it/s, f1=0.497, recall=0.483]\n"
     ]
    },
    {
     "name": "stdout",
     "output_type": "stream",
     "text": [
      "Epoch: 58\n"
     ]
    },
    {
     "name": "stderr",
     "output_type": "stream",
     "text": [
      "100%|██████████| 10/10 [00:00<00:00, 74.79it/s, loss=0.651]\n",
      "  0%|          | 0/100 [00:00<?, ?it/s]c:\\Users\\user\\anaconda3\\envs\\bt4012\\lib\\site-packages\\sklearn\\metrics\\_classification.py:1469: UndefinedMetricWarning: Precision is ill-defined and being set to 0.0 due to no predicted samples. Use `zero_division` parameter to control this behavior.\n",
      "  _warn_prf(average, modifier, msg_start, len(result))\n",
      "100%|██████████| 100/100 [00:01<00:00, 69.03it/s, f1=0.515, recall=0.513]\n"
     ]
    },
    {
     "name": "stdout",
     "output_type": "stream",
     "text": [
      "Epoch: 59\n"
     ]
    },
    {
     "name": "stderr",
     "output_type": "stream",
     "text": [
      "100%|██████████| 10/10 [00:00<00:00, 92.64it/s, loss=0.674]\n",
      "100%|██████████| 100/100 [00:01<00:00, 67.59it/s, f1=0.506, recall=0.503]\n"
     ]
    },
    {
     "name": "stdout",
     "output_type": "stream",
     "text": [
      "Epoch: 60\n"
     ]
    },
    {
     "name": "stderr",
     "output_type": "stream",
     "text": [
      "100%|██████████| 10/10 [00:00<00:00, 79.19it/s, loss=0.652]\n",
      "100%|██████████| 100/100 [00:01<00:00, 67.48it/s, f1=0.543, recall=0.543]\n"
     ]
    },
    {
     "name": "stdout",
     "output_type": "stream",
     "text": [
      "Epoch: 61\n"
     ]
    },
    {
     "name": "stderr",
     "output_type": "stream",
     "text": [
      "100%|██████████| 10/10 [00:00<00:00, 114.67it/s, loss=0.707]\n",
      "100%|██████████| 100/100 [00:01<00:00, 65.59it/s, f1=0.482, recall=0.45]\n"
     ]
    },
    {
     "name": "stdout",
     "output_type": "stream",
     "text": [
      "Epoch: 62\n"
     ]
    },
    {
     "name": "stderr",
     "output_type": "stream",
     "text": [
      "100%|██████████| 10/10 [00:00<00:00, 85.91it/s, loss=0.69]\n",
      "  0%|          | 0/100 [00:00<?, ?it/s]c:\\Users\\user\\anaconda3\\envs\\bt4012\\lib\\site-packages\\sklearn\\metrics\\_classification.py:1469: UndefinedMetricWarning: Precision is ill-defined and being set to 0.0 due to no predicted samples. Use `zero_division` parameter to control this behavior.\n",
      "  _warn_prf(average, modifier, msg_start, len(result))\n",
      "100%|██████████| 100/100 [00:01<00:00, 66.90it/s, f1=0.504, recall=0.51]\n"
     ]
    },
    {
     "name": "stdout",
     "output_type": "stream",
     "text": [
      "Epoch: 63\n"
     ]
    },
    {
     "name": "stderr",
     "output_type": "stream",
     "text": [
      "100%|██████████| 10/10 [00:00<00:00, 79.52it/s, loss=0.654]\n",
      "100%|██████████| 100/100 [00:01<00:00, 60.76it/s, f1=0.48, recall=0.463]\n"
     ]
    },
    {
     "name": "stdout",
     "output_type": "stream",
     "text": [
      "Epoch: 64\n"
     ]
    },
    {
     "name": "stderr",
     "output_type": "stream",
     "text": [
      "100%|██████████| 10/10 [00:00<00:00, 100.21it/s, loss=0.675]\n",
      "100%|██████████| 100/100 [00:01<00:00, 66.14it/s, f1=0.518, recall=0.517]\n"
     ]
    },
    {
     "name": "stdout",
     "output_type": "stream",
     "text": [
      "Epoch: 65\n"
     ]
    },
    {
     "name": "stderr",
     "output_type": "stream",
     "text": [
      "100%|██████████| 10/10 [00:00<00:00, 95.75it/s, loss=0.63]\n",
      "100%|██████████| 100/100 [00:01<00:00, 58.52it/s, f1=0.515, recall=0.513]\n"
     ]
    },
    {
     "name": "stdout",
     "output_type": "stream",
     "text": [
      "Epoch: 66\n"
     ]
    },
    {
     "name": "stderr",
     "output_type": "stream",
     "text": [
      "100%|██████████| 10/10 [00:00<00:00, 77.35it/s, loss=0.719]\n",
      "100%|██████████| 100/100 [00:01<00:00, 56.06it/s, f1=0.477, recall=0.457]\n"
     ]
    },
    {
     "name": "stdout",
     "output_type": "stream",
     "text": [
      "Epoch: 67\n"
     ]
    },
    {
     "name": "stderr",
     "output_type": "stream",
     "text": [
      "100%|██████████| 10/10 [00:00<00:00, 93.00it/s, loss=0.635]\n",
      "100%|██████████| 100/100 [00:01<00:00, 65.89it/s, f1=0.517, recall=0.507]\n"
     ]
    },
    {
     "name": "stdout",
     "output_type": "stream",
     "text": [
      "Epoch: 68\n"
     ]
    },
    {
     "name": "stderr",
     "output_type": "stream",
     "text": [
      "100%|██████████| 10/10 [00:00<00:00, 116.94it/s, loss=0.709]\n",
      "100%|██████████| 100/100 [00:01<00:00, 63.02it/s, f1=0.537, recall=0.553]\n"
     ]
    },
    {
     "name": "stdout",
     "output_type": "stream",
     "text": [
      "Epoch: 69\n"
     ]
    },
    {
     "name": "stderr",
     "output_type": "stream",
     "text": [
      "100%|██████████| 10/10 [00:00<00:00, 90.49it/s, loss=0.646]\n",
      "100%|██████████| 100/100 [00:01<00:00, 62.14it/s, f1=0.492, recall=0.49]\n"
     ]
    },
    {
     "name": "stdout",
     "output_type": "stream",
     "text": [
      "Epoch: 70\n"
     ]
    },
    {
     "name": "stderr",
     "output_type": "stream",
     "text": [
      "100%|██████████| 10/10 [00:00<00:00, 76.03it/s, loss=0.645]\n",
      "100%|██████████| 100/100 [00:01<00:00, 68.73it/s, f1=0.497, recall=0.48]\n"
     ]
    },
    {
     "name": "stdout",
     "output_type": "stream",
     "text": [
      "Epoch: 71\n"
     ]
    },
    {
     "name": "stderr",
     "output_type": "stream",
     "text": [
      "100%|██████████| 10/10 [00:00<00:00, 89.68it/s, loss=0.624]\n",
      "100%|██████████| 100/100 [00:01<00:00, 66.42it/s, f1=0.472, recall=0.447]\n"
     ]
    },
    {
     "name": "stdout",
     "output_type": "stream",
     "text": [
      "Epoch: 72\n"
     ]
    },
    {
     "name": "stderr",
     "output_type": "stream",
     "text": [
      "100%|██████████| 10/10 [00:00<00:00, 94.13it/s, loss=0.762]\n",
      "100%|██████████| 100/100 [00:01<00:00, 64.48it/s, f1=0.536, recall=0.523]\n"
     ]
    },
    {
     "name": "stdout",
     "output_type": "stream",
     "text": [
      "Epoch: 73\n"
     ]
    },
    {
     "name": "stderr",
     "output_type": "stream",
     "text": [
      "100%|██████████| 10/10 [00:00<00:00, 73.33it/s, loss=0.642]\n",
      "100%|██████████| 100/100 [00:01<00:00, 68.23it/s, f1=0.463, recall=0.433]\n"
     ]
    },
    {
     "name": "stdout",
     "output_type": "stream",
     "text": [
      "Epoch: 74\n"
     ]
    },
    {
     "name": "stderr",
     "output_type": "stream",
     "text": [
      "100%|██████████| 10/10 [00:00<00:00, 119.15it/s, loss=0.694]\n",
      "100%|██████████| 100/100 [00:01<00:00, 64.98it/s, f1=0.536, recall=0.527]\n"
     ]
    },
    {
     "name": "stdout",
     "output_type": "stream",
     "text": [
      "Epoch: 75\n"
     ]
    },
    {
     "name": "stderr",
     "output_type": "stream",
     "text": [
      "100%|██████████| 10/10 [00:00<00:00, 97.81it/s, loss=0.691]\n",
      "100%|██████████| 100/100 [00:01<00:00, 66.15it/s, f1=0.527, recall=0.54]\n"
     ]
    },
    {
     "name": "stdout",
     "output_type": "stream",
     "text": [
      "Epoch: 76\n"
     ]
    },
    {
     "name": "stderr",
     "output_type": "stream",
     "text": [
      "100%|██████████| 10/10 [00:00<00:00, 88.53it/s, loss=0.687]\n",
      "100%|██████████| 100/100 [00:01<00:00, 64.37it/s, f1=0.492, recall=0.477]\n"
     ]
    },
    {
     "name": "stdout",
     "output_type": "stream",
     "text": [
      "Epoch: 77\n"
     ]
    },
    {
     "name": "stderr",
     "output_type": "stream",
     "text": [
      "100%|██████████| 10/10 [00:00<00:00, 102.73it/s, loss=0.66]\n",
      "100%|██████████| 100/100 [00:01<00:00, 65.12it/s, f1=0.539, recall=0.553]\n"
     ]
    },
    {
     "name": "stdout",
     "output_type": "stream",
     "text": [
      "Epoch: 78\n"
     ]
    },
    {
     "name": "stderr",
     "output_type": "stream",
     "text": [
      "100%|██████████| 10/10 [00:00<00:00, 82.30it/s, loss=0.651]\n",
      "100%|██████████| 100/100 [00:01<00:00, 59.76it/s, f1=0.438, recall=0.413]\n"
     ]
    },
    {
     "name": "stdout",
     "output_type": "stream",
     "text": [
      "Epoch: 79\n"
     ]
    },
    {
     "name": "stderr",
     "output_type": "stream",
     "text": [
      "100%|██████████| 10/10 [00:00<00:00, 74.90it/s, loss=0.636]\n",
      "  0%|          | 0/100 [00:00<?, ?it/s]c:\\Users\\user\\anaconda3\\envs\\bt4012\\lib\\site-packages\\sklearn\\metrics\\_classification.py:1469: UndefinedMetricWarning: Precision is ill-defined and being set to 0.0 due to no predicted samples. Use `zero_division` parameter to control this behavior.\n",
      "  _warn_prf(average, modifier, msg_start, len(result))\n",
      "100%|██████████| 100/100 [00:01<00:00, 62.06it/s, f1=0.452, recall=0.423]\n"
     ]
    },
    {
     "name": "stdout",
     "output_type": "stream",
     "text": [
      "Epoch: 80\n"
     ]
    },
    {
     "name": "stderr",
     "output_type": "stream",
     "text": [
      "100%|██████████| 10/10 [00:00<00:00, 80.96it/s, loss=0.673]\n",
      "100%|██████████| 100/100 [00:01<00:00, 63.42it/s, f1=0.51, recall=0.517]\n"
     ]
    },
    {
     "name": "stdout",
     "output_type": "stream",
     "text": [
      "Epoch: 81\n"
     ]
    },
    {
     "name": "stderr",
     "output_type": "stream",
     "text": [
      "100%|██████████| 10/10 [00:00<00:00, 92.10it/s, loss=0.625]\n",
      "100%|██████████| 100/100 [00:01<00:00, 61.99it/s, f1=0.522, recall=0.503]\n"
     ]
    },
    {
     "name": "stdout",
     "output_type": "stream",
     "text": [
      "Epoch: 82\n"
     ]
    },
    {
     "name": "stderr",
     "output_type": "stream",
     "text": [
      "100%|██████████| 10/10 [00:00<00:00, 109.27it/s, loss=0.692]\n",
      "100%|██████████| 100/100 [00:01<00:00, 58.16it/s, f1=0.515, recall=0.497]\n"
     ]
    },
    {
     "name": "stdout",
     "output_type": "stream",
     "text": [
      "Epoch: 83\n"
     ]
    },
    {
     "name": "stderr",
     "output_type": "stream",
     "text": [
      "100%|██████████| 10/10 [00:00<00:00, 100.48it/s, loss=0.628]\n",
      "100%|██████████| 100/100 [00:01<00:00, 55.08it/s, f1=0.499, recall=0.48]\n"
     ]
    },
    {
     "name": "stdout",
     "output_type": "stream",
     "text": [
      "Epoch: 84\n"
     ]
    },
    {
     "name": "stderr",
     "output_type": "stream",
     "text": [
      "100%|██████████| 10/10 [00:00<00:00, 90.49it/s, loss=0.782]\n",
      "100%|██████████| 100/100 [00:01<00:00, 60.43it/s, f1=0.527, recall=0.53]\n"
     ]
    },
    {
     "name": "stdout",
     "output_type": "stream",
     "text": [
      "Epoch: 85\n"
     ]
    },
    {
     "name": "stderr",
     "output_type": "stream",
     "text": [
      "100%|██████████| 10/10 [00:00<00:00, 103.62it/s, loss=0.668]\n",
      "100%|██████████| 100/100 [00:01<00:00, 56.74it/s, f1=0.446, recall=0.403]\n"
     ]
    },
    {
     "name": "stdout",
     "output_type": "stream",
     "text": [
      "Epoch: 86\n"
     ]
    },
    {
     "name": "stderr",
     "output_type": "stream",
     "text": [
      "100%|██████████| 10/10 [00:00<00:00, 114.94it/s, loss=0.679]\n",
      "100%|██████████| 100/100 [00:01<00:00, 58.32it/s, f1=0.505, recall=0.503]\n"
     ]
    },
    {
     "name": "stdout",
     "output_type": "stream",
     "text": [
      "Epoch: 87\n"
     ]
    },
    {
     "name": "stderr",
     "output_type": "stream",
     "text": [
      "100%|██████████| 10/10 [00:00<00:00, 125.00it/s, loss=0.681]\n",
      "100%|██████████| 100/100 [00:01<00:00, 61.78it/s, f1=0.544, recall=0.54]\n"
     ]
    },
    {
     "name": "stdout",
     "output_type": "stream",
     "text": [
      "Epoch: 88\n"
     ]
    },
    {
     "name": "stderr",
     "output_type": "stream",
     "text": [
      "100%|██████████| 10/10 [00:00<00:00, 74.89it/s, loss=0.587]\n",
      "  0%|          | 0/100 [00:00<?, ?it/s]c:\\Users\\user\\anaconda3\\envs\\bt4012\\lib\\site-packages\\sklearn\\metrics\\_classification.py:1469: UndefinedMetricWarning: Precision is ill-defined and being set to 0.0 due to no predicted samples. Use `zero_division` parameter to control this behavior.\n",
      "  _warn_prf(average, modifier, msg_start, len(result))\n",
      "  0%|          | 0/100 [00:00<?, ?it/s, f1=0, recall=0]c:\\Users\\user\\anaconda3\\envs\\bt4012\\lib\\site-packages\\sklearn\\metrics\\_classification.py:1469: UndefinedMetricWarning: Precision is ill-defined and being set to 0.0 due to no predicted samples. Use `zero_division` parameter to control this behavior.\n",
      "  _warn_prf(average, modifier, msg_start, len(result))\n",
      "  0%|          | 0/100 [00:00<?, ?it/s, f1=0, recall=0]c:\\Users\\user\\anaconda3\\envs\\bt4012\\lib\\site-packages\\sklearn\\metrics\\_classification.py:1469: UndefinedMetricWarning: Precision is ill-defined and being set to 0.0 due to no predicted samples. Use `zero_division` parameter to control this behavior.\n",
      "  _warn_prf(average, modifier, msg_start, len(result))\n",
      "100%|██████████| 100/100 [00:01<00:00, 54.81it/s, f1=0.487, recall=0.487]\n"
     ]
    },
    {
     "name": "stdout",
     "output_type": "stream",
     "text": [
      "Epoch: 89\n"
     ]
    },
    {
     "name": "stderr",
     "output_type": "stream",
     "text": [
      "100%|██████████| 10/10 [00:00<00:00, 81.95it/s, loss=0.605]\n",
      "  0%|          | 0/100 [00:00<?, ?it/s]c:\\Users\\user\\anaconda3\\envs\\bt4012\\lib\\site-packages\\sklearn\\metrics\\_classification.py:1469: UndefinedMetricWarning: Precision is ill-defined and being set to 0.0 due to no predicted samples. Use `zero_division` parameter to control this behavior.\n",
      "  _warn_prf(average, modifier, msg_start, len(result))\n",
      "100%|██████████| 100/100 [00:01<00:00, 58.71it/s, f1=0.524, recall=0.517]\n"
     ]
    },
    {
     "name": "stdout",
     "output_type": "stream",
     "text": [
      "Epoch: 90\n"
     ]
    },
    {
     "name": "stderr",
     "output_type": "stream",
     "text": [
      "100%|██████████| 10/10 [00:00<00:00, 92.16it/s, loss=0.605]\n",
      "100%|██████████| 100/100 [00:01<00:00, 56.97it/s, f1=0.558, recall=0.573]\n"
     ]
    },
    {
     "name": "stdout",
     "output_type": "stream",
     "text": [
      "Epoch: 91\n"
     ]
    },
    {
     "name": "stderr",
     "output_type": "stream",
     "text": [
      "100%|██████████| 10/10 [00:00<00:00, 94.77it/s, loss=0.601]\n",
      "100%|██████████| 100/100 [00:01<00:00, 55.65it/s, f1=0.486, recall=0.483]\n"
     ]
    },
    {
     "name": "stdout",
     "output_type": "stream",
     "text": [
      "Epoch: 92\n"
     ]
    },
    {
     "name": "stderr",
     "output_type": "stream",
     "text": [
      "100%|██████████| 10/10 [00:00<00:00, 90.49it/s, loss=0.588]\n",
      "  0%|          | 0/100 [00:00<?, ?it/s]c:\\Users\\user\\anaconda3\\envs\\bt4012\\lib\\site-packages\\sklearn\\metrics\\_classification.py:1469: UndefinedMetricWarning: Precision is ill-defined and being set to 0.0 due to no predicted samples. Use `zero_division` parameter to control this behavior.\n",
      "  _warn_prf(average, modifier, msg_start, len(result))\n",
      "100%|██████████| 100/100 [00:01<00:00, 57.94it/s, f1=0.545, recall=0.57]\n"
     ]
    },
    {
     "name": "stdout",
     "output_type": "stream",
     "text": [
      "Epoch: 93\n"
     ]
    },
    {
     "name": "stderr",
     "output_type": "stream",
     "text": [
      "100%|██████████| 10/10 [00:00<00:00, 71.41it/s, loss=0.615]\n",
      "100%|██████████| 100/100 [00:01<00:00, 59.90it/s, f1=0.509, recall=0.497]\n"
     ]
    },
    {
     "name": "stdout",
     "output_type": "stream",
     "text": [
      "Epoch: 94\n"
     ]
    },
    {
     "name": "stderr",
     "output_type": "stream",
     "text": [
      "100%|██████████| 10/10 [00:00<00:00, 79.35it/s, loss=0.586]\n",
      "  0%|          | 0/100 [00:00<?, ?it/s]c:\\Users\\user\\anaconda3\\envs\\bt4012\\lib\\site-packages\\sklearn\\metrics\\_classification.py:1469: UndefinedMetricWarning: Precision is ill-defined and being set to 0.0 due to no predicted samples. Use `zero_division` parameter to control this behavior.\n",
      "  _warn_prf(average, modifier, msg_start, len(result))\n",
      "100%|██████████| 100/100 [00:01<00:00, 55.04it/s, f1=0.485, recall=0.487]\n"
     ]
    },
    {
     "name": "stdout",
     "output_type": "stream",
     "text": [
      "Epoch: 95\n"
     ]
    },
    {
     "name": "stderr",
     "output_type": "stream",
     "text": [
      "100%|██████████| 10/10 [00:00<00:00, 106.95it/s, loss=0.639]\n",
      "100%|██████████| 100/100 [00:01<00:00, 58.51it/s, f1=0.494, recall=0.447]\n"
     ]
    },
    {
     "name": "stdout",
     "output_type": "stream",
     "text": [
      "Epoch: 96\n"
     ]
    },
    {
     "name": "stderr",
     "output_type": "stream",
     "text": [
      "100%|██████████| 10/10 [00:00<00:00, 82.28it/s, loss=0.691]\n",
      "100%|██████████| 100/100 [00:01<00:00, 58.91it/s, f1=0.524, recall=0.477]\n"
     ]
    },
    {
     "name": "stdout",
     "output_type": "stream",
     "text": [
      "Epoch: 97\n"
     ]
    },
    {
     "name": "stderr",
     "output_type": "stream",
     "text": [
      "100%|██████████| 10/10 [00:00<00:00, 96.61it/s, loss=0.622]\n",
      "100%|██████████| 100/100 [00:01<00:00, 55.37it/s, f1=0.513, recall=0.513]\n"
     ]
    },
    {
     "name": "stdout",
     "output_type": "stream",
     "text": [
      "Epoch: 98\n"
     ]
    },
    {
     "name": "stderr",
     "output_type": "stream",
     "text": [
      "100%|██████████| 10/10 [00:00<00:00, 103.61it/s, loss=0.66]\n",
      "100%|██████████| 100/100 [00:01<00:00, 58.48it/s, f1=0.523, recall=0.5] \n"
     ]
    },
    {
     "name": "stdout",
     "output_type": "stream",
     "text": [
      "Epoch: 99\n"
     ]
    },
    {
     "name": "stderr",
     "output_type": "stream",
     "text": [
      "100%|██████████| 10/10 [00:00<00:00, 77.81it/s, loss=0.675]\n",
      "100%|██████████| 100/100 [00:01<00:00, 61.82it/s, f1=0.509, recall=0.523]"
     ]
    },
    {
     "name": "stdout",
     "output_type": "stream",
     "text": [
      "Best f1-score after 100 epochs of training: 0.5673076923076923\n",
      "Best recall after 100 epochs of training: 0.59\n"
     ]
    },
    {
     "name": "stderr",
     "output_type": "stream",
     "text": [
      "\n"
     ]
    }
   ],
   "source": [
    "N_EPOCHS = 100\n",
    "log_update_frequency = 10\n",
    "\n",
    "## Track best parameters (weights and biases) and performance of model\n",
    "best_state = model.state_dict()\n",
    "best_f1_score = 0.0\n",
    "best_recall = 0.0\n",
    "\n",
    "for epoch in range(N_EPOCHS):\n",
    "    print(f'Epoch: {epoch}')\n",
    "    \n",
    "    average_epoch_loss = training_epoch(model, train_loader, train_optimizer, LOSS_FN)\n",
    "\n",
    "    actuals, predictions, _, _, recall, _, f1_score = evaluate_model(model, validation_loader)\n",
    "    \n",
    "    if f1_score > best_f1_score:\n",
    "        best_f1_score = f1_score\n",
    "        # best_state = model.state_dict()\n",
    "        # print(\"Ding ding ding! We found a new best model!\")\n",
    "\n",
    "    if recall > best_recall:\n",
    "        best_recall = recall\n",
    "        best_state = model.state_dict()\n",
    "        print(\"Ding ding ding! We found a new best model!\")\n",
    "\n",
    "    tb_writer.add_scalar(\"Train/loss\", average_epoch_loss, epoch)\n",
    "    tb_writer.add_scalar('F1', f1_score, epoch)\n",
    "    tb_writer.add_scalar('Recall', recall, epoch)\n",
    "\n",
    "    ## Update the scheduler such that it knows when to adjust the learning rate\n",
    "    train_scheduler.step()\n",
    "\n",
    "\n",
    "## Retrieve the best model\n",
    "missing_keys, unexpected_keys = model.load_state_dict(best_state)\n",
    "print(f'Best f1-score after {N_EPOCHS} epochs of training: {best_f1_score}')\n",
    "print(f'Best recall after {N_EPOCHS} epochs of training: {best_recall}')\n"
   ]
  },
  {
   "cell_type": "markdown",
   "metadata": {},
   "source": [
    "### Model evaluation"
   ]
  },
  {
   "cell_type": "code",
   "execution_count": 9,
   "metadata": {},
   "outputs": [],
   "source": [
    "# evaluate(model, test_loader) ##TODO: Implement method"
   ]
  }
 ],
 "metadata": {
  "kernelspec": {
   "display_name": "bt4012",
   "language": "python",
   "name": "python3"
  },
  "language_info": {
   "codemirror_mode": {
    "name": "ipython",
    "version": 3
   },
   "file_extension": ".py",
   "mimetype": "text/x-python",
   "name": "python",
   "nbconvert_exporter": "python",
   "pygments_lexer": "ipython3",
   "version": "3.10.12"
  }
 },
 "nbformat": 4,
 "nbformat_minor": 2
}
